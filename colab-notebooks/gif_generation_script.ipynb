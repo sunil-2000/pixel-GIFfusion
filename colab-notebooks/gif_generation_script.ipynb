{
  "nbformat": 4,
  "nbformat_minor": 0,
  "metadata": {
    "colab": {
      "provenance": [],
      "gpuType": "V100",
      "machine_shape": "hm",
      "include_colab_link": true
    },
    "kernelspec": {
      "name": "python3",
      "display_name": "Python 3"
    },
    "language_info": {
      "name": "python"
    },
    "accelerator": "GPU",
    "gpuClass": "standard"
  },
  "cells": [
    {
      "cell_type": "markdown",
      "metadata": {
        "id": "view-in-github",
        "colab_type": "text"
      },
      "source": [
        "<a href=\"https://colab.research.google.com/github/sunil-2000/text-to-pixel-gif/blob/main/colab-notebooks/gif_generation_script.ipynb\" target=\"_parent\"><img src=\"https://colab.research.google.com/assets/colab-badge.svg\" alt=\"Open In Colab\"/></a>"
      ]
    },
    {
      "cell_type": "markdown",
      "source": [
        "# **Pixel GIFfusion**\n",
        "\n",
        "### How to use:\n",
        "\n",
        "* Change runtime to GPU, requires an A100 with high VRAM\n",
        "* Install requirements and clone repo\n",
        "* Change prompts, number of frames, duration of each frame (in milliseconds) desired for GIF\n",
        "* Call function to generate GIF, saves to src directory in cloned repo"
      ],
      "metadata": {
        "id": "sS3gEuZG0sHy"
      }
    },
    {
      "cell_type": "code",
      "source": [
        "# DON'T CHANGE, RUN THIS CELL\n",
        "# SETUP RUNTIME\n",
        "!pip install diffusers\n",
        "!pip install transformers\n",
        "!pip install accelerate"
      ],
      "metadata": {
        "id": "eq8NJVRI44PF"
      },
      "execution_count": null,
      "outputs": []
    },
    {
      "cell_type": "code",
      "source": [
        "# DON'T CHANGE, RUN THIS CELL\n",
        "# CLONE REPO\n",
        "!git clone https://github.com/sunil-2000/text-to-pixel-gif.git\n",
        "%cd text-to-pixel-gif/src"
      ],
      "metadata": {
        "id": "ZQNc8DOioyeT"
      },
      "execution_count": null,
      "outputs": []
    },
    {
      "cell_type": "code",
      "source": [
        "from diffusion import Diffusion\n",
        "\n",
        "#########################\n",
        "\n",
        "# CHANGE PROMPTS, DESIRED NUMBER OF FRAMES, AND DURATION OF EACH FRAME FOR GENERATED GIF\n",
        "prompt1 = 'Snowy cabin in the woods'\n",
        "prompt2 = 'Medieval castle'\n",
        "num_frames = 40\n",
        "speed = 200\n",
        "\n",
        "#########################\n",
        "\n",
        "pixel_diffuser = Diffusion()\n",
        "prompts = [prompt1, \n",
        "           prompt2]\n",
        "pixel_diffuser.gif_chain(prompts, speed, num_frames)"
      ],
      "metadata": {
        "id": "BMj3P_hYRxx-"
      },
      "execution_count": null,
      "outputs": []
    },
    {
      "cell_type": "code",
      "source": [],
      "metadata": {
        "id": "bK91WQTHyohp"
      },
      "execution_count": null,
      "outputs": []
    }
  ]
}